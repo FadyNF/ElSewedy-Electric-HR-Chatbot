{
 "cells": [
  {
   "cell_type": "code",
   "execution_count": 1,
   "id": "0ddcd234",
   "metadata": {},
   "outputs": [],
   "source": [
    "\n",
    "import sys\n",
    "import os\n",
    "sys.path.append(os.path.abspath(\"..\"))\n",
    "\n",
    "from pypdf import PdfReader\n",
    "from utils.database_utils import insert_sections_into_db, create_table_if_not_exists"
   ]
  },
  {
   "cell_type": "code",
   "execution_count": 2,
   "id": "415b52ec",
   "metadata": {},
   "outputs": [],
   "source": [
    "reader = PdfReader('pdfs/Dress Code Policy.pdf')"
   ]
  },
  {
   "cell_type": "code",
   "execution_count": 3,
   "id": "62f22ba9",
   "metadata": {},
   "outputs": [
    {
     "name": "stdout",
     "output_type": "stream",
     "text": [
      "6\n"
     ]
    }
   ],
   "source": [
    "print(len(reader.pages))"
   ]
  },
  {
   "cell_type": "code",
   "execution_count": 4,
   "id": "a528b742",
   "metadata": {},
   "outputs": [
    {
     "name": "stdout",
     "output_type": "stream",
     "text": [
      "ELSEWEDY \n",
      "ELECTRIC S —— \n",
      "ELSEWEDY ELECTRIC GROUP \n",
      "Dress Code & Personal Appearance Policy \n",
      "www.elsewedyelectric.com\n"
     ]
    }
   ],
   "source": [
    "page = reader.pages[0]\n",
    "text = page.extract_text()\n",
    "print(text)"
   ]
  },
  {
   "cell_type": "code",
   "execution_count": 5,
   "id": "457f5081",
   "metadata": {},
   "outputs": [],
   "source": [
    "pages_text = {}\n",
    "\n",
    "for i in range(len(reader.pages)): \n",
    "    text = reader.pages[i].extract_text()\n",
    "    pages_text.update({f\"Page_{i + 1}\" : text})\n",
    "    "
   ]
  },
  {
   "cell_type": "code",
   "execution_count": 6,
   "id": "d147a0e3",
   "metadata": {},
   "outputs": [
    {
     "data": {
      "text/plain": [
       "'ELSEWEDY \\nELECTRIC ~— \\n1. Purpose \\nThis policy is designed fo guide employees on the required standards of dress and \\nappearance. \\nEmployees must maintain an appropriate standard of dress and personal appearance at \\nwork and conduct themselves in a professional manner at all times both within the \\nworkplace and when representing the Company. \\nThis Policy is a minimum standard; where local legislations define higher standards; the \\nGroup shall comply with them. \\n2. Applicability \\nThis policy applies to all the operating companies and subsidiaries directly or indirectly \\ncontrolled by Elsewedy Electric, and all the geographical regions where Elsewedy Electric \\ncompanies and subsidiaries are operating. \\n3. Definitions \\nBusiness Formal Dress Code includes suits and ties for men, while women require business \\nsuits with pants or a long skirt and a jacket. \\nSemi-Formal Dress Code includes suits, jackets, shirts, skirts and pants that are typical of \\nformal business attire at work. \\n4. Roles & Responsibilities \\nThe following personnel have roles and responsibilities with regard to the implementation \\nof this policy as described in detail in the Principles and Procedures section: \\n« BUs HRBP to assure the application of this policy \\n« HR Operations team fo apply the internal disciplinary actions for policy violation. \\nwww.elsewedyelectric.com'"
      ]
     },
     "execution_count": 6,
     "metadata": {},
     "output_type": "execute_result"
    }
   ],
   "source": [
    "pages_text[\"Page_3\"]"
   ]
  },
  {
   "cell_type": "code",
   "execution_count": 7,
   "id": "8b7f0c8e",
   "metadata": {},
   "outputs": [],
   "source": [
    "import re\n",
    "\n",
    "def split_numbered_sections(text):\n",
    "    # This matches headers like \"1. Purpose\", \"2. Applicability\", etc.\n",
    "    pattern = r'(?P<full>(?P<number>\\d+)\\.\\s+(?P<title>[A-Za-z ]{3,50}))'\n",
    "\n",
    "    matches = list(re.finditer(pattern, text))\n",
    "    sections = []\n",
    "\n",
    "    for i, match in enumerate(matches):\n",
    "        start = match.end()\n",
    "        end = matches[i + 1].start() if i + 1 < len(matches) else len(text)\n",
    "\n",
    "        section_number = int(match.group(\"number\"))\n",
    "        section_title = match.group(\"title\").strip()\n",
    "        section_text = text[start:end].strip()\n",
    "\n",
    "        sections.append({\n",
    "            \"section_number\": section_number,\n",
    "            \"title\": section_title,\n",
    "            \"content\": section_text\n",
    "        })\n",
    "\n",
    "    return sections\n"
   ]
  },
  {
   "cell_type": "code",
   "execution_count": 8,
   "id": "a677e664",
   "metadata": {},
   "outputs": [],
   "source": [
    "text = (\n",
    "    pages_text[\"Page_3\"]\n",
    "    + \"\\n\"\n",
    "    + pages_text[\"Page_4\"]\n",
    "    + \"\\n\"\n",
    "    + pages_text[\"Page_5\"]\n",
    "    + \"\\n\"\n",
    "    + pages_text[\"Page_6\"]\n",
    ")"
   ]
  },
  {
   "cell_type": "code",
   "execution_count": 9,
   "id": "1b2653fd",
   "metadata": {},
   "outputs": [],
   "source": [
    "sections = split_numbered_sections(text)"
   ]
  },
  {
   "cell_type": "code",
   "execution_count": 10,
   "id": "f354be16",
   "metadata": {},
   "outputs": [],
   "source": [
    "# Step 3: Add metadata (source_file + page)\n",
    "for i, section in enumerate(sections):\n",
    "    section[\"source_file\"] = \"Dress Code Policy\"\n",
    "    section[\"page\"] = 3 + i  # Adjust if needed"
   ]
  },
  {
   "cell_type": "code",
   "execution_count": 11,
   "id": "c872cb35",
   "metadata": {},
   "outputs": [
    {
     "name": "stdout",
     "output_type": "stream",
     "text": [
      "[{'section_number': 1, 'title': 'Purpose', 'content': 'This policy is designed fo guide employees on the required standards of dress and \\nappearance. \\nEmployees must maintain an appropriate standard of dress and personal appearance at \\nwork and conduct themselves in a professional manner at all times both within the \\nworkplace and when representing the Company. \\nThis Policy is a minimum standard; where local legislations define higher standards; the \\nGroup shall comply with them.', 'source_file': 'Dress Code Policy', 'page': 3}, {'section_number': 2, 'title': 'Applicability', 'content': 'This policy applies to all the operating companies and subsidiaries directly or indirectly \\ncontrolled by Elsewedy Electric, and all the geographical regions where Elsewedy Electric \\ncompanies and subsidiaries are operating.', 'source_file': 'Dress Code Policy', 'page': 4}, {'section_number': 3, 'title': 'Definitions', 'content': 'Business Formal Dress Code includes suits and ties for men, while women require business \\nsuits with pants or a long skirt and a jacket. \\nSemi-Formal Dress Code includes suits, jackets, shirts, skirts and pants that are typical of \\nformal business attire at work.', 'source_file': 'Dress Code Policy', 'page': 5}, {'section_number': 4, 'title': 'Roles', 'content': '& Responsibilities \\nThe following personnel have roles and responsibilities with regard to the implementation \\nof this policy as described in detail in the Principles and Procedures section: \\n« BUs HRBP to assure the application of this policy \\n« HR Operations team fo apply the internal disciplinary actions for policy violation. \\nwww.elsewedyelectric.com\\nELSEWEDY \\nELECTRIC S ———', 'source_file': 'Dress Code Policy', 'page': 6}, {'section_number': 5, 'title': 'General Rules', 'content': '& Principles \\nAs representatives of Elsewedy Electric Group, employees should adhere and abide by \\nthe following dress code guidelines: \\n5.', 'source_file': 'Dress Code Policy', 'page': 7}, {'section_number': 1, 'title': 'For Offices', 'content': ': \\nFormal or Semi-Formal: suits, jackets, shirts, skirts, and pants that are typical of \\nformal business attire at work. \\nThe company requires employees to always dress neatly, appropriately, and that \\nthey maintain adequate personal hygiene. \\nAll clothing shouldn’t have fears, rips or holes, even if it is the curent fashion. \\nClothes should be professional, which means that it should not be too revealing, or \\nhaving any stamps or prints that are offensive or inappropriate. \\nOn Thursdays, smart casual wear is accepted. Jeans, Polo Shirts, T-shirts (no \\ndrawings), sneakers are accepted. Slippers, shorts, ripped jeans and sportswear are \\nnot allowed even during Thursdays. \\nOn Thursdays, The direct manager has the right to decide the appropriate attire of \\nhis team according to the job nature. \\nFemales are allowed to wear jewelry. However, any visible body piercings during \\nworking hours are not allowed. \\nEmployees on a mission outside the office can wear either formal or casual depends \\non the nature of the mission and after obtaining approval the direct manager. \\nAt all times employees should comply with the following: \\no Neat haircut. \\no Trimmed beard, mustache, and whiskers \\no Personal hygiene. \\no Proper and clean nails. \\n5.', 'source_file': 'Dress Code Policy', 'page': 8}, {'section_number': 2, 'title': 'For Sites and factories', 'content': ': \\nThe employees must comply to wearing the appropriate attire for the sites and \\nensure the health and safety regulations as following: \\no Safety helmet with Elsewedy electric logo \\no Safely glasses and any other required safety equipment for their work area. \\nwww.elsewedyelectric.com\\nELSEWEDY \\nELECTRIC \\n~— \\no Clean and ironed coverall \\no Personal protective equipment should be worn according to HSE \\ndepartment instructions. \\n5.', 'source_file': 'Dress Code Policy', 'page': 9}, {'section_number': 3, 'title': 'Uniformed Personnel', 'content': ': \\n« The uniform should always be clean, neat, in a good shape, and pressed and the \\nemployees must maintain adequate personal hygiene. \\n« Allemployees must change before leaving the premises and It is not allowed fo \\nwear your uniform off duty. \\n« Each employee must take personal care of his/her uniform. Any intentional \\ndamage caused fo the uniform will have to be compensated by the employee.', 'source_file': 'Dress Code Policy', 'page': 10}, {'section_number': 6, 'title': 'Dress Code Violation', 'content': '« The company has the right to warn an employee who does not comply with the \\ndress code guidelines according to the internal disciplinary actions policy and as \\nper the labour law of each country. \\ns Managers or supervisors are expected to inform employees when they are violating \\nthe dress code. This may include having to leave the work to change clothes. \\ns Repeated violations or violations that have major repercussions may lead the HR \\noperations team to apply disciplinary action being taken up to and including \\ntermination.', 'source_file': 'Dress Code Policy', 'page': 11}, {'section_number': 7, 'title': 'Policy Compliance', 'content': 'Elsewedy Electric may conduct regular audits in all its facilities and structures to monitor \\ncompliance with this policy. The Group could also perform internal surveys or initiatives to \\nencourage the employees to always report violations of its policies. All concerns related fo \\nthe policy shall be freely raised and appropriately handled and followed up by the Group. \\nAll Elsewedy Electric staff members are expected to report any case of non-compliance with \\nthe policy. The employees should be aware that they have a moral and ethical duty to \\nreport such instances and should not fear retaliation. The Group recognizes the importance \\nof confidentiality and could grant anonymity to the complainants who wish so, given that \\nsuch information does not impede the investigation or resolution of the dispute. There should \\nbe no limitation to the filing of complaints, in terms of accessibility to all employees and \\nquantity. The Group will make sure that the employees know where and fo whom they can \\n5 \\nwww.elsewedyelectric.com\\nELSEWEDY \\nELECTRIC S —— \\nrefer for denounces or complaints. Elsewedy Electric ensures that appropriate measures and \\npenailties will be applied in case of non-compliance with this policy.', 'source_file': 'Dress Code Policy', 'page': 12}, {'section_number': 8, 'title': 'Discipline', 'content': \"& Remediation \\nViolations of this policy may lead to disciplinary action up to, and including, termination of \\nemployment/ partnership. All disciplinary actions shall be undertaken in accordance with \\nthe Group's sanctions list and with all applicable local laws and other legal requirements. \\nThe remediation shall be undertaken on a case-by-case basis and in accordance with all \\napplicable local laws and other legal requirements.\", 'source_file': 'Dress Code Policy', 'page': 13}, {'section_number': 9, 'title': 'Policy Review', 'content': 'This policy shall be reviewed annually and/or when deemed necessary.', 'source_file': 'Dress Code Policy', 'page': 14}, {'section_number': 10, 'title': 'Version Control', 'content': 'Title of document Dress Code & personal Appearance Policy \\nVersion no. 1 \\nDocument owner Group OD \\nDocument reviewer CHRO \\nDocument approver CHRO \\nDate of creation June 2025 \\nCommunication & trainings Bus HRBPs \\nDate of next review June 2026 \\nApproved by \\nGroup CHRO \\nWalid Tayel \\nwww.elsewedyelectric.com', 'source_file': 'Dress Code Policy', 'page': 15}]\n"
     ]
    }
   ],
   "source": [
    "print(sections)"
   ]
  },
  {
   "cell_type": "code",
   "execution_count": 12,
   "id": "d238dccd",
   "metadata": {},
   "outputs": [
    {
     "name": "stderr",
     "output_type": "stream",
     "text": [
      "c:\\Users\\Fady\\AppData\\Local\\Programs\\Python\\Python312\\Lib\\site-packages\\tqdm\\auto.py:21: TqdmWarning: IProgress not found. Please update jupyter and ipywidgets. See https://ipywidgets.readthedocs.io/en/stable/user_install.html\n",
      "  from .autonotebook import tqdm as notebook_tqdm\n"
     ]
    },
    {
     "name": "stdout",
     "output_type": "stream",
     "text": [
      "WARNING:tensorflow:From c:\\Users\\Fady\\AppData\\Local\\Programs\\Python\\Python312\\Lib\\site-packages\\tf_keras\\src\\losses.py:2976: The name tf.losses.sparse_softmax_cross_entropy is deprecated. Please use tf.compat.v1.losses.sparse_softmax_cross_entropy instead.\n",
      "\n"
     ]
    },
    {
     "name": "stderr",
     "output_type": "stream",
     "text": [
      "Batches: 100%|██████████| 1/1 [00:00<00:00,  1.94it/s]\n"
     ]
    }
   ],
   "source": [
    "from sentence_transformers import SentenceTransformer\n",
    "\n",
    "model = SentenceTransformer(\"all-MiniLM-L6-v2\")  # small, fast, accurate\n",
    "\n",
    "# Example: embed all your sections\n",
    "texts = [f\"{s['title']}\\n{s['content']}\" for s in sections]\n",
    "embeddings = model.encode(texts, show_progress_bar=True)"
   ]
  },
  {
   "cell_type": "code",
   "execution_count": 13,
   "id": "68cbc354",
   "metadata": {},
   "outputs": [
    {
     "name": "stdout",
     "output_type": "stream",
     "text": [
      "✅ All sections inserted into the database.\n"
     ]
    }
   ],
   "source": [
    "create_table_if_not_exists()\n",
    "\n",
    "insert_sections_into_db(sections, embeddings)"
   ]
  },
  {
   "cell_type": "code",
   "execution_count": 14,
   "id": "b1343b83",
   "metadata": {},
   "outputs": [],
   "source": [
    "# import faiss\n",
    "# import numpy as np\n",
    "\n",
    "# # Step 1: convert to numpy array\n",
    "# emb_matrix = np.array(embeddings).astype(\"float32\")\n",
    "\n",
    "# # Step 2: create index\n",
    "# index = faiss.IndexFlatL2(emb_matrix.shape[1])  # L2 = Euclidean distance\n",
    "# index.add(emb_matrix)  # Add all embeddings\n",
    "\n",
    "# # Optional: store metadata for later lookup\n",
    "# metadata = sections  # Keep same order\n"
   ]
  },
  {
   "cell_type": "code",
   "execution_count": 15,
   "id": "9426d9d2",
   "metadata": {},
   "outputs": [],
   "source": [
    "# faiss.write_index(index, \"embeddings/dress_code_policy.faiss\")\n"
   ]
  },
  {
   "cell_type": "code",
   "execution_count": 16,
   "id": "dfe110bf",
   "metadata": {},
   "outputs": [],
   "source": [
    "# import json\n",
    "# with open(\"embeddings/metadata.json\", \"w\") as f:\n",
    "#     json.dump(metadata, f)\n"
   ]
  },
  {
   "cell_type": "code",
   "execution_count": 17,
   "id": "e554407a",
   "metadata": {},
   "outputs": [],
   "source": [
    "# query_embedding = model.encode([\"When can we wear casual clothes?\"])[0]"
   ]
  },
  {
   "cell_type": "code",
   "execution_count": 18,
   "id": "c9ac8eb5",
   "metadata": {},
   "outputs": [],
   "source": [
    "# D, I = index.search(np.array([query_embedding]).astype(\"float32\"), k=3)\n",
    "\n",
    "# # I contains indices of most relevant sections\n",
    "# relevant_chunks = [metadata[i] for i in I[0]]\n"
   ]
  },
  {
   "cell_type": "code",
   "execution_count": 19,
   "id": "f4278bb6",
   "metadata": {},
   "outputs": [],
   "source": [
    "# print(relevant_chunks)"
   ]
  }
 ],
 "metadata": {
  "kernelspec": {
   "display_name": "Python 3",
   "language": "python",
   "name": "python3"
  },
  "language_info": {
   "codemirror_mode": {
    "name": "ipython",
    "version": 3
   },
   "file_extension": ".py",
   "mimetype": "text/x-python",
   "name": "python",
   "nbconvert_exporter": "python",
   "pygments_lexer": "ipython3",
   "version": "3.12.6"
  }
 },
 "nbformat": 4,
 "nbformat_minor": 5
}
