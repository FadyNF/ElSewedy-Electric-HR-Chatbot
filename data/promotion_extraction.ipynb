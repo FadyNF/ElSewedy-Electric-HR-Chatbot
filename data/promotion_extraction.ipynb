{
 "cells": [
  {
   "cell_type": "code",
   "execution_count": 1,
   "id": "952bcdb2",
   "metadata": {},
   "outputs": [],
   "source": [
    "import fitz  # PyMuPDF\n",
    "import os\n",
    "import re\n",
    "import pytesseract\n",
    "from PIL import Image"
   ]
  },
  {
   "cell_type": "code",
   "execution_count": 2,
   "id": "998d314a",
   "metadata": {},
   "outputs": [],
   "source": [
    "import pytesseract\n",
    "pytesseract.pytesseract.tesseract_cmd = r\"C:\\Program Files\\Tesseract-OCR\\tesseract.exe\"\n",
    "\n",
    "PDF_PATH = \"pdfs/Promotion Policy - 2025.pdf\"\n",
    "IMG_OUTPUT_DIR = \"images\"\n",
    "os.makedirs(IMG_OUTPUT_DIR, exist_ok=True)"
   ]
  },
  {
   "cell_type": "code",
   "execution_count": 3,
   "id": "1f34454e",
   "metadata": {},
   "outputs": [],
   "source": [
    "doc = fitz.open(PDF_PATH)"
   ]
  },
  {
   "cell_type": "code",
   "execution_count": 4,
   "id": "6e6fffa9",
   "metadata": {},
   "outputs": [],
   "source": [
    "sections = []\n",
    "images = []\n",
    "current_section = None"
   ]
  },
  {
   "cell_type": "code",
   "execution_count": 5,
   "id": "313ddf75",
   "metadata": {},
   "outputs": [],
   "source": [
    "def is_section_heading(span):\n",
    "    return (\n",
    "        span[\"size\"] >= 11 and\n",
    "        span[\"color\"] == 12582912 and\n",
    "        span[\"flags\"] == 20 \n",
    "        # len(span[\"text\"].split()) <= 4  # Optional: limits to short titles\n",
    "    )\n"
   ]
  },
  {
   "cell_type": "code",
   "execution_count": 6,
   "id": "6075e281",
   "metadata": {},
   "outputs": [
    {
     "name": "stdout",
     "output_type": "stream",
     "text": [
      "Page 1 — Image 1: 152x80\n",
      "Page 1 — Image 2: 1335x55\n",
      "Page 2 — Image 1: 152x80\n",
      "Page 2 — Image 2: 1335x55\n",
      "Page 2 — Image 3: 103x43\n",
      "Page 3 — Image 1: 152x80\n",
      "Page 3 — Image 2: 1335x55\n",
      "Page 3 — Image 3: 1153x930\n",
      "Page 4 — Image 1: 152x80\n",
      "Page 4 — Image 2: 1335x55\n",
      "Page 5 — Image 1: 152x80\n",
      "Page 5 — Image 2: 1335x55\n",
      "Page 6 — Image 1: 152x80\n",
      "Page 6 — Image 2: 1335x55\n",
      "Page 7 — Image 1: 152x80\n",
      "Page 7 — Image 2: 1335x55\n",
      "Page 7 — Image 3: 808x696\n",
      "Page 8 — Image 1: 152x80\n",
      "Page 8 — Image 2: 1335x55\n",
      "Page 9 — Image 1: 152x80\n",
      "Page 9 — Image 2: 1335x55\n",
      "Page 9 — Image 3: 957x1713\n",
      "Page 10 — Image 1: 152x80\n",
      "Page 10 — Image 2: 1335x55\n",
      "Page 11 — Image 1: 152x80\n",
      "Page 11 — Image 2: 1335x55\n",
      "Page 11 — Image 3: 283x115\n",
      "Page 11 — Image 4: 1085x1494\n"
     ]
    }
   ],
   "source": [
    "for page_num in range(len(doc)):\n",
    "    page = doc[page_num]\n",
    "    blocks = page.get_text(\"dict\")[\"blocks\"]\n",
    "\n",
    "    for block in blocks:\n",
    "        for line in block.get(\"lines\", []):\n",
    "            for span in line.get(\"spans\", []):\n",
    "                text = span[\"text\"].strip()\n",
    "                # print(\"TEXT:\", span[\"text\"])    \n",
    "                # print(\"FONT SIZE:\", span[\"size\"])\n",
    "                # print(\"COLOR:\", span[\"color\"])\n",
    "                # print(\"FLAGS:\", span[\"flags\"])\n",
    "                # print(\"-----\")\n",
    "\n",
    "                if is_section_heading(span) and len(text.split()) <= 6:\n",
    "                    # Start new section\n",
    "                    current_section = {\n",
    "                        \"title\": text,\n",
    "                        \"content\":   \"\",\n",
    "                        \"page\": page_num + 1,\n",
    "                        \"related_images\": []\n",
    "                    }\n",
    "                    sections.append(current_section)\n",
    "                elif current_section and text:\n",
    "                    current_section[\"content\"] += text + \" \"\n",
    "\n",
    "    # Extract images from page\n",
    "    for img_index, img in enumerate(page.get_images(full=True)):\n",
    "        xref = img[0]\n",
    "        pix = fitz.Pixmap(doc, xref)\n",
    "        \n",
    "        print(f\"Page {page_num + 1} — Image {img_index + 1}: {pix.width}x{pix.height}\")\n",
    "        \n",
    "        if pix.width < 200 or pix.height < 200:\n",
    "            continue  # Skip small (logo/footer) images\n",
    "\n",
    "        if pix.n > 4:  # CMYK\n",
    "            pix = fitz.Pixmap(fitz.csRGB, pix)\n",
    "        \n",
    "        img_filename = f\"{IMG_OUTPUT_DIR}/pg{page_num + 1}_img{img_index + 1}.png\"\n",
    "        pix.save(img_filename)\n",
    "\n",
    "        # OCR to extract text\n",
    "        ocr_text = pytesseract.image_to_string(Image.open(img_filename))\n",
    "\n",
    "        # Link image to the last detected section\n",
    "        linked_title = current_section[\"title\"] if current_section else \"Unknown\"\n",
    "\n",
    "        images.append({\n",
    "            \"page\": page_num + 1,\n",
    "            \"image_path\": img_filename,\n",
    "            \"ocr_text\": ocr_text,\n",
    "            \"linked_section_title\": linked_title\n",
    "        })\n",
    "\n",
    "        # Add image to section\n",
    "        if current_section:\n",
    "            current_section[\"related_images\"].append(img_filename)\n",
    "\n"
   ]
  },
  {
   "cell_type": "code",
   "execution_count": 7,
   "id": "845ae2f9",
   "metadata": {},
   "outputs": [
    {
     "name": "stdout",
     "output_type": "stream",
     "text": [
      "\n",
      "=== Purpose ===\n",
      "To set, define and communicate broadly Elsewedy Electric policy concerning promotions ensuring equal opportunity to all employees based on job evolution, performance, and business need. This Policy is a minimum standard; where local legislations define higher standards; the Group shall comply with t\n",
      "\n",
      "=== Applicability ===\n",
      "This policy applies to all the operating companies and subsidiaries directly or indirectly controlled by Elsewedy Electric, and all the geographical regions where Elsewedy Electric companies and subsidiaries are operating. \n",
      "\n",
      "=== The Performance and Talent Cycle ===\n",
      "Performance Management and Reward Cycle Talent Management and Development Cycle 4.Employees' Performance Bonus 7.End of Year Performance Appraisal & The 25-Box Grid 8.Learning Needs Analysis (LNA) 13.Merit Increase 10.Talent Review Meetings The 9-Box Grid (nominations) 3.Business Goals Reviews 5.Eng\n",
      "\n",
      "=== The 9-Box Grid of Talent Differentiation ===\n",
      "The 9-Box Grid of Talent Differentiation is a tool used during the TRM (Talent Review Meeting) to measure the (potentiality) of the employees in comparisons to each other (within the same band) based on the 3 last year’s performance and capabilities scores. The output of the grid is used to take the\n",
      "\n",
      "=== Definitions ===\n",
      "\n",
      "\n",
      "=== Promotion ===\n",
      "is any upward movement of an eligible employee to a higher role that requires more responsibilities and consequently additional competencies. There are two types of promotions: \n",
      "\n",
      "=== Grade Promotion ===\n",
      "is an upward move within the same band. Please refer to the grading and titling matrix. \n",
      "\n",
      "=== Band Promotion ===\n",
      "is an upward move from one band to another. Please refer to the grading and titling matrix. \n",
      "\n",
      "=== A nominated High Potential (HiPo) ===\n",
      "• Is an employee who is identified by the Sector/BU TRM to have a high possibility to move up the grading ladder. • A nominated HiPo employee is entitled to be enrolled into the Group TAC (Talent Assessment Center) for confirmation. • The nominated HiPo employee who successfully passes the Group TAC\n",
      "\n",
      "=== Group Talent Assessment Center (TAC) ===\n",
      "• The objective of the TAC is to make sure that the employee meets the requirement for the next role in terms of: 1. Core and Leadership Competencies. 2. Abilities. 3. Work preferences and values. 4. Aspiration and willingness for new responsibilities. • While the following attributes are measured a\n",
      "\n",
      "=== The Promotion Process ===\n",
      "\n",
      "\n",
      "=== The band promotion ===\n",
      "TAC is required in promotion from band to another. 1. The Line Manager nominates and submits the promotion requests for Department’s Head approval using the (Promotion Request Form). 2. The Department Head approves and submits the form to the Sector/BU HRBP. 3. The Sector/BU HRBP reviews and approve\n",
      "\n",
      "=== Basic Principles ===\n",
      "• Eligibility for promotion is not by any means related to spending several years in a specific job. • An increase in job duties within a job level does not normally necessitate a promotion at an individual’s level. • The Sector/BU HRBP to make sure not to exceed the personnel cost versus the sales \n",
      "\n",
      "=== Grading and Titling Matrix ===\n",
      "Approved by Group Chief HR Officer Walid Tayel \n"
     ]
    }
   ],
   "source": [
    "for sec in sections:\n",
    "    print(f\"\\n=== {sec['title']} ===\\n{sec['content'][:300]}\")\n"
   ]
  },
  {
   "cell_type": "code",
   "execution_count": 8,
   "id": "f9f2efd6",
   "metadata": {},
   "outputs": [
    {
     "name": "stdout",
     "output_type": "stream",
     "text": [
      "images/pg3_img3.png (Page 3) linked to section 'The 9-Box Grid of Talent Differentiation'\n",
      "OCR Preview: Potential of growing in the organization and move up the ladder based on the Employee's\n",
      "\n",
      "Capabilitie \n",
      "\n",
      "images/pg7_img3.png (Page 7) linked to section 'The band promotion'\n",
      "OCR Preview: 9B Grid of Management (MRG + Sr. MGR)\n",
      "\n",
      "Key Talent\n",
      "(MGR + Sr.\n",
      "MGR)\n",
      "\n",
      "9B Grid of Sr. Professionals (TL  \n",
      "\n",
      "images/pg9_img3.png (Page 9) linked to section 'The band promotion'\n",
      "OCR Preview: Promotion Cycle Flow Chart\n",
      "\n",
      "Submitting\n",
      "Promotion Request\n",
      "to the department\n",
      "\n",
      "head\n",
      "\n",
      "llow the Promotion \n",
      "\n",
      "images/pg11_img4.png (Page 11) linked to section 'Grading and Titling Matrix'\n",
      "OCR Preview: Band\n",
      "\n",
      "Bands Grades\n",
      "\n",
      "CEO\n",
      "ship\n",
      "Senior Managing Director\n",
      "Positions CLevel B\n",
      "(SP)\n",
      "General Manager\n",
      "ector  \n",
      "\n"
     ]
    }
   ],
   "source": [
    "for img in images:\n",
    "    print(f\"{img['image_path']} (Page {img['page']}) linked to section '{img['linked_section_title']}'\")\n",
    "    print(\"OCR Preview:\", img['ocr_text'][:100], \"\\n\")\n"
   ]
  },
  {
   "cell_type": "code",
   "execution_count": 9,
   "id": "18c16017",
   "metadata": {},
   "outputs": [],
   "source": [
    "page_num = 1\n",
    "\n",
    "page = doc[page_num]"
   ]
  },
  {
   "cell_type": "code",
   "execution_count": 10,
   "id": "54bd2ced",
   "metadata": {},
   "outputs": [],
   "source": [
    "# blocks = page.get_text(\"dict\")[\"blocks\"]\n",
    "# for i, block in enumerate(blocks):\n",
    "#     print(f\"Block {i}: {block['bbox']}, type: {block.get('type', 'text')}\")\n"
   ]
  },
  {
   "cell_type": "code",
   "execution_count": 11,
   "id": "d8d3e8a7",
   "metadata": {},
   "outputs": [],
   "source": [
    "page_rect = page.rect"
   ]
  },
  {
   "cell_type": "code",
   "execution_count": 12,
   "id": "7ecd6dfd",
   "metadata": {},
   "outputs": [],
   "source": [
    "# Define top and bottom y-values as percentages of the total height\n",
    "start_y = page_rect.y0 + 0.475 * page_rect.height  # start around 60% down\n",
    "end_y   = page_rect.y0 + 0.73 * page_rect.height  # end around 85% down\n",
    "\n",
    "# Create the rectangle for cropping\n",
    "target_rect = fitz.Rect(\n",
    "    page_rect.x0,  # left\n",
    "    start_y,       # top\n",
    "    page_rect.x1,  # right\n",
    "    end_y          # bottom\n",
    ")"
   ]
  },
  {
   "cell_type": "code",
   "execution_count": 13,
   "id": "344fa1d3",
   "metadata": {},
   "outputs": [],
   "source": [
    "pix = page.get_pixmap(clip=target_rect, dpi=300)\n",
    "pix.save(f\"images/pg{page_num + 1}_bottom_quarter.png\")\n"
   ]
  },
  {
   "cell_type": "code",
   "execution_count": 14,
   "id": "97a3348e",
   "metadata": {},
   "outputs": [
    {
     "data": {
      "text/plain": [
       "[{'page': 3,\n",
       "  'image_path': 'images/pg3_img3.png',\n",
       "  'ocr_text': \"Potential of growing in the organization and move up the ladder based on the Employee's\\n\\nCapabilities\\n\\n(competencies, skills, knowledge, al\\n\\n)\\n\\nies, experience\\n\\nHOW\\n\\nBOTIOM\\nDoes not demonstrate the\\n\\n2\\n«2\\n3s\\n32\\n£2\\n§\\nge\\nS28\\nRoe\\n\\n£z\\noS\\n23\\n2\\nos\\n8\\n\\nMID\\nFully and consistently\\ndemonstrates the expected\\n\\ncapabilities required for the\\ncurrent band in comparison to aualifvina them to move to the\\n\\nexpected capabilities as\\n\\n8\\n\\noutstanding capabi\\n\\nconsistently as peers\\n\\nThe distribution % reflects an example of a BU achieved 100% results over the last 2-3 years\\n\\n|\\nFA\\n5\\n:\\nFa\\n\\nLow Performer (LP)\\n\\nExit\\n\\nNo potential and below average\\nperformance who need to be\\nmoved rather quickly to another box\\nor exist plans need to be set\\n\\n2-3 Years GOALS Achievements Rating\\n\\nRIGHT\\nLEFT MID One of the very best at delivering\\nDoes not deliver expected resultsas Fully delivers expected results outstanding results\\n\\nconsistently as peers consistently in comparison to peers (consistently overachieving his/her\\ngoals versus peers)\\nWHAT\\nPotential of growing in the organization and move up the ladder based on the Employee's Goals Achievements\\nRating over the last 2-3 years\\n\",\n",
       "  'linked_section_title': 'The 9-Box Grid of Talent Differentiation'},\n",
       " {'page': 7,\n",
       "  'image_path': 'images/pg7_img3.png',\n",
       "  'ocr_text': '9B Grid of Management (MRG + Sr. MGR)\\n\\nKey Talent\\n(MGR + Sr.\\nMGR)\\n\\n9B Grid of Sr. Professionals (TL + SH)\\n\\nHigh\\nPotential\\nMGR\\n\\nKey Talent\\n(TL+SC)\\n',\n",
       "  'linked_section_title': 'The band promotion'},\n",
       " {'page': 9,\n",
       "  'image_path': 'images/pg9_img3.png',\n",
       "  'ocr_text': 'Promotion Cycle Flow Chart\\n\\nSubmitting\\nPromotion Request\\nto the department\\n\\nhead\\n\\nllow the Promotion Griteriae\\n\\nRequest\\nValidation\\n\\nAfter BU Head Approval\\n\\nPromotion Request\\nFiltration\\n\\nValidate against criteria\\n\\nValid/Same Band:\\n\\n&\\nG\\ni)\\n©\\n=\\nG\\n=\\nv\\n=\\nS\\na\\noO\\nrq\\nce\\n=\\na\\nae)\\n©\\n@\\nau\\n=:\\na\\na\\n[e)\\n2\\nS\\n2\\noO\\n\\nValid/From Band to Band\\n\\nGroup Talent\\nManagement\\n\\n‘Submitting the TAC results to the\\nBU HRBP and the approved list to\\nGroup TR\\n\\nGroup OD\\n\\nGroup Total Rewards\\ncommunicates the promotion\\nincrease to the HRBP\\n\\nBU HRBP requests the new titles\\non Oracle\\n\\nGroup Total Rewards\\nand BU HRBP\\n\\nPromotion Announcement\\n\\nBU HRBP\\n\\n',\n",
       "  'linked_section_title': 'The band promotion'},\n",
       " {'page': 11,\n",
       "  'image_path': 'images/pg11_img4.png',\n",
       "  'ocr_text': 'Band\\n\\nBands Grades\\n\\nCEO\\nship\\nSenior Managing Director\\nPositions CLevel B\\n(SP)\\nGeneral Manager\\nector Director\\nSenior Management \"\\n2 Director A\\n3 Director B\\nMid-Career\\nRecruit\\n(MCR)\\n\\nies\\n\\nExecutive Assistant A\\n\\nExecutive Assistant B\\n\\nDepartment Assistant\\n\\nEarly Talent\\n(ET)\\n\\nGraduate\\nDevelopment\\nProgram\\n\\nAssistant\\n\\nAssistant\\n',\n",
       "  'linked_section_title': 'Grading and Titling Matrix'}]"
      ]
     },
     "execution_count": 14,
     "metadata": {},
     "output_type": "execute_result"
    }
   ],
   "source": [
    "images"
   ]
  },
  {
   "cell_type": "code",
   "execution_count": 15,
   "id": "f75ae015",
   "metadata": {},
   "outputs": [
    {
     "name": "stdout",
     "output_type": "stream",
     "text": [
      "Extracted OCR Text:\n",
      " ELSEWEDY\n",
      "ELECTRIC\n",
      "\n",
      "eee 9.Training\n",
      "\n",
      "Calendar\n",
      "\n",
      "11.PIP\n",
      "(Performance\n",
      "Improvement\n",
      "Plans) for\n",
      "Average Talent\n",
      "\n",
      "12.Exit Plans for\n",
      "Low Performers\n",
      "\n",
      "14, HiPo\n",
      "confirmation TAC\n",
      "for Promotions\n",
      "\n",
      "15. Promotions\n",
      "(hiring from within\n",
      "using HiPo)\n",
      "\n",
      "16. HiPo TAC\n",
      "for Rentention &\n",
      "Succession\n",
      "(confirmations)\n",
      "\n",
      "17.Retention\n",
      "Plans (PDP) for\n",
      "HiPo + Watch-\n",
      "Listers\n",
      "\n",
      "9.Acceleration'\n",
      "\n",
      "Development\n",
      "\n",
      "Programs for HiPo\n",
      "+ Watch-Listers\n",
      "\n",
      "(Academies)\n",
      "\n",
      "18.Key Jobs\n",
      "Succession Plans\n",
      "(using HiPo +\n",
      "Watch-Listers)\n",
      "\n",
      "Talent Management and Development Cycle\n",
      "\n",
      "8.Learning\n",
      "Needs Analysis\n",
      "(LNA)\n",
      "\n",
      "7.End of Year\n",
      "Performance\n",
      "Appraisal & The\n",
      "25-Box Grid\n",
      "\n",
      "The 9-Box Grid\n",
      "(nominations)\n",
      "\n",
      "6.MSF 360\n",
      "(Multi-source\n",
      "Feedback)\n",
      "\n",
      "13.Merit Increase\n",
      "\n",
      "5.Engagement\n",
      "\n",
      "Survey\n",
      "\n",
      "1.Annual Plan\n",
      "and Budget\n",
      "(Manpower\n",
      "Planning)\n",
      "\n",
      "2.Goals' Setting\n",
      "(business +\n",
      "employees)\n",
      "\n",
      "3.Business Goals\n",
      "Reviews\n",
      "\n",
      "4.Employees'\n",
      "Performance\n",
      "Bonus\n",
      "\n",
      "Performance Management and Reward Cycle\n",
      "\n"
     ]
    }
   ],
   "source": [
    "extracted_img_page = 2\n",
    "extracted_img_path = \"images/pg2_img1.png\"\n",
    "extracted_img_section = \"The Performance and Talent Cycle\"\n",
    "\n",
    "ocr_text = pytesseract.image_to_string(Image.open(extracted_img_path))\n",
    "\n",
    "print(\"Extracted OCR Text:\\n\", ocr_text)\n"
   ]
  },
  {
   "cell_type": "code",
   "execution_count": 16,
   "id": "ae88a4bd",
   "metadata": {},
   "outputs": [],
   "source": [
    "extracted_data = {\n",
    "    \"path\": extracted_img_page,\n",
    "    \"image_path\": extracted_img_path,\n",
    "    \"ocr_text\": ocr_text,\n",
    "    \"linked_section_title\": extracted_img_section\n",
    "}\n",
    "\n",
    "images.append(extracted_data)"
   ]
  },
  {
   "cell_type": "code",
   "execution_count": 17,
   "id": "b0b514b5",
   "metadata": {},
   "outputs": [
    {
     "data": {
      "text/plain": [
       "[{'page': 3,\n",
       "  'image_path': 'images/pg3_img3.png',\n",
       "  'ocr_text': \"Potential of growing in the organization and move up the ladder based on the Employee's\\n\\nCapabilities\\n\\n(competencies, skills, knowledge, al\\n\\n)\\n\\nies, experience\\n\\nHOW\\n\\nBOTIOM\\nDoes not demonstrate the\\n\\n2\\n«2\\n3s\\n32\\n£2\\n§\\nge\\nS28\\nRoe\\n\\n£z\\noS\\n23\\n2\\nos\\n8\\n\\nMID\\nFully and consistently\\ndemonstrates the expected\\n\\ncapabilities required for the\\ncurrent band in comparison to aualifvina them to move to the\\n\\nexpected capabilities as\\n\\n8\\n\\noutstanding capabi\\n\\nconsistently as peers\\n\\nThe distribution % reflects an example of a BU achieved 100% results over the last 2-3 years\\n\\n|\\nFA\\n5\\n:\\nFa\\n\\nLow Performer (LP)\\n\\nExit\\n\\nNo potential and below average\\nperformance who need to be\\nmoved rather quickly to another box\\nor exist plans need to be set\\n\\n2-3 Years GOALS Achievements Rating\\n\\nRIGHT\\nLEFT MID One of the very best at delivering\\nDoes not deliver expected resultsas Fully delivers expected results outstanding results\\n\\nconsistently as peers consistently in comparison to peers (consistently overachieving his/her\\ngoals versus peers)\\nWHAT\\nPotential of growing in the organization and move up the ladder based on the Employee's Goals Achievements\\nRating over the last 2-3 years\\n\",\n",
       "  'linked_section_title': 'The 9-Box Grid of Talent Differentiation'},\n",
       " {'page': 7,\n",
       "  'image_path': 'images/pg7_img3.png',\n",
       "  'ocr_text': '9B Grid of Management (MRG + Sr. MGR)\\n\\nKey Talent\\n(MGR + Sr.\\nMGR)\\n\\n9B Grid of Sr. Professionals (TL + SH)\\n\\nHigh\\nPotential\\nMGR\\n\\nKey Talent\\n(TL+SC)\\n',\n",
       "  'linked_section_title': 'The band promotion'},\n",
       " {'page': 9,\n",
       "  'image_path': 'images/pg9_img3.png',\n",
       "  'ocr_text': 'Promotion Cycle Flow Chart\\n\\nSubmitting\\nPromotion Request\\nto the department\\n\\nhead\\n\\nllow the Promotion Griteriae\\n\\nRequest\\nValidation\\n\\nAfter BU Head Approval\\n\\nPromotion Request\\nFiltration\\n\\nValidate against criteria\\n\\nValid/Same Band:\\n\\n&\\nG\\ni)\\n©\\n=\\nG\\n=\\nv\\n=\\nS\\na\\noO\\nrq\\nce\\n=\\na\\nae)\\n©\\n@\\nau\\n=:\\na\\na\\n[e)\\n2\\nS\\n2\\noO\\n\\nValid/From Band to Band\\n\\nGroup Talent\\nManagement\\n\\n‘Submitting the TAC results to the\\nBU HRBP and the approved list to\\nGroup TR\\n\\nGroup OD\\n\\nGroup Total Rewards\\ncommunicates the promotion\\nincrease to the HRBP\\n\\nBU HRBP requests the new titles\\non Oracle\\n\\nGroup Total Rewards\\nand BU HRBP\\n\\nPromotion Announcement\\n\\nBU HRBP\\n\\n',\n",
       "  'linked_section_title': 'The band promotion'},\n",
       " {'page': 11,\n",
       "  'image_path': 'images/pg11_img4.png',\n",
       "  'ocr_text': 'Band\\n\\nBands Grades\\n\\nCEO\\nship\\nSenior Managing Director\\nPositions CLevel B\\n(SP)\\nGeneral Manager\\nector Director\\nSenior Management \"\\n2 Director A\\n3 Director B\\nMid-Career\\nRecruit\\n(MCR)\\n\\nies\\n\\nExecutive Assistant A\\n\\nExecutive Assistant B\\n\\nDepartment Assistant\\n\\nEarly Talent\\n(ET)\\n\\nGraduate\\nDevelopment\\nProgram\\n\\nAssistant\\n\\nAssistant\\n',\n",
       "  'linked_section_title': 'Grading and Titling Matrix'},\n",
       " {'path': 2,\n",
       "  'image_path': 'images/pg2_img1.png',\n",
       "  'ocr_text': \"ELSEWEDY\\nELECTRIC\\n\\neee 9.Training\\n\\nCalendar\\n\\n11.PIP\\n(Performance\\nImprovement\\nPlans) for\\nAverage Talent\\n\\n12.Exit Plans for\\nLow Performers\\n\\n14, HiPo\\nconfirmation TAC\\nfor Promotions\\n\\n15. Promotions\\n(hiring from within\\nusing HiPo)\\n\\n16. HiPo TAC\\nfor Rentention &\\nSuccession\\n(confirmations)\\n\\n17.Retention\\nPlans (PDP) for\\nHiPo + Watch-\\nListers\\n\\n9.Acceleration'\\n\\nDevelopment\\n\\nPrograms for HiPo\\n+ Watch-Listers\\n\\n(Academies)\\n\\n18.Key Jobs\\nSuccession Plans\\n(using HiPo +\\nWatch-Listers)\\n\\nTalent Management and Development Cycle\\n\\n8.Learning\\nNeeds Analysis\\n(LNA)\\n\\n7.End of Year\\nPerformance\\nAppraisal & The\\n25-Box Grid\\n\\nThe 9-Box Grid\\n(nominations)\\n\\n6.MSF 360\\n(Multi-source\\nFeedback)\\n\\n13.Merit Increase\\n\\n5.Engagement\\n\\nSurvey\\n\\n1.Annual Plan\\nand Budget\\n(Manpower\\nPlanning)\\n\\n2.Goals' Setting\\n(business +\\nemployees)\\n\\n3.Business Goals\\nReviews\\n\\n4.Employees'\\nPerformance\\nBonus\\n\\nPerformance Management and Reward Cycle\\n\",\n",
       "  'linked_section_title': 'The Performance and Talent Cycle'}]"
      ]
     },
     "execution_count": 17,
     "metadata": {},
     "output_type": "execute_result"
    }
   ],
   "source": [
    "images"
   ]
  },
  {
   "cell_type": "code",
   "execution_count": 18,
   "id": "e5a5cbd9",
   "metadata": {},
   "outputs": [],
   "source": [
    "import sys\n",
    "import os\n",
    "\n",
    "sys.path.append(os.path.abspath(\"..\"))\n",
    "\n",
    "from utils.database_utils import (\n",
    "    insert_sections_into_db,\n",
    "    create_table_if_not_exists,\n",
    "    insert_images_into_db,\n",
    ")"
   ]
  }
 ],
 "metadata": {
  "kernelspec": {
   "display_name": "Python 3",
   "language": "python",
   "name": "python3"
  },
  "language_info": {
   "codemirror_mode": {
    "name": "ipython",
    "version": 3
   },
   "file_extension": ".py",
   "mimetype": "text/x-python",
   "name": "python",
   "nbconvert_exporter": "python",
   "pygments_lexer": "ipython3",
   "version": "3.12.6"
  }
 },
 "nbformat": 4,
 "nbformat_minor": 5
}
